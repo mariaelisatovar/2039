{
 "cells": [
  {
   "cell_type": "markdown",
   "id": "51baf925",
   "metadata": {
    "slideshow": {
     "slide_type": "slide"
    }
   },
   "source": [
    "# Regresión lineal simple\n",
    "\n",
    "### La regresión lineal es un método de aprendizaje estadístico útil para predecir una respuesta cuantitativa\n",
    "\n",
    "Otros métodos más sofisticados son generalizaciones o extensiones de la regresión lineal\n",
    "\n",
    "Dentro de la estadística, el aprendizaje estadístico se enfoca en predecir y modelar de manera 'supervisada' y 'no supervisada'\n",
    "* 'Supervisada' --> Para cada medición del predictor (X), existe una respuesta asociada (Y)\n",
    "* 'No supervisada' --> Para cada medición del predictor (X), no existe una respuesta asociada (Y)\n"
   ]
  },
  {
   "cell_type": "markdown",
   "id": "081af5ae",
   "metadata": {
    "slideshow": {
     "slide_type": "slide"
    }
   },
   "source": [
    "### La regresión lineal simple consiste en predecir una respuesta cuantitativa Y con base en una sola variable predictora X\n",
    "\n",
    "Matemáticamente, esta relación considera:\n",
    "* Y ≈ β0 + β1X\n",
    "\n",
    "El símbolo “≈” se lee como “es aproximadamente modelada como”.\n",
    "\n",
    "β0 y β1 son dos constantes que representan el intercepto y la pendiente. En conjunto, se les conoce como los coeficientes o parámetros del modelo. \n",
    "* Intercepto: Coordenada Y, donde la variable X=0\n",
    "* Pendiente: El cambio en Y dividido por el cambio en X\n",
    "\n",
    "Para expresar la función y los coeficientes estimados, se usa el símbolo \"hat\" --> ˆ"
   ]
  },
  {
   "cell_type": "markdown",
   "id": "47bad187",
   "metadata": {
    "slideshow": {
     "slide_type": "slide"
    }
   },
   "source": [
    "### ¿Qué variables de la base de datos de antropometría nos pueden ayudar a predecir la variable 'cintura'?"
   ]
  },
  {
   "cell_type": "code",
   "execution_count": 223,
   "id": "b33bc9c7",
   "metadata": {
    "slideshow": {
     "slide_type": "skip"
    }
   },
   "outputs": [],
   "source": [
    "import numpy as np\n",
    "import pandas as pd\n",
    "import seaborn as sns\n",
    "import scipy.stats as stats\n",
    "\n",
    "# %matplotlib inline is an example of a predefined magic function in Python. They are frequently used\n",
    "# in interactive environments like jupyter notebook.\n",
    "# %matplotlib inline makes your plot outputs appear and be stored within the notebook.\n",
    "%matplotlib inline\n",
    "\n",
    "#Pyplot is a collection of functions in the popular visualization package Matplotlib\n",
    "import matplotlib.pyplot as plt\n",
    "\n",
    "#máximo número de columnas (o renglones: display.max_rows)\n",
    "pd.set_option('display.max_columns', 100)\n",
    "\n",
    "import statsmodels.api as sm\n",
    "from sklearn import linear_model\n",
    "from sklearn.linear_model import LinearRegression"
   ]
  },
  {
   "cell_type": "code",
   "execution_count": 224,
   "id": "1cb88aa4",
   "metadata": {
    "slideshow": {
     "slide_type": "skip"
    }
   },
   "outputs": [],
   "source": [
    "ubicacion = \"antropometria-dataset.csv\"\n",
    "medidas = pd.read_csv(ubicacion)"
   ]
  },
  {
   "cell_type": "code",
   "execution_count": 225,
   "id": "4ae7f926",
   "metadata": {
    "slideshow": {
     "slide_type": "skip"
    }
   },
   "outputs": [
    {
     "data": {
      "text/html": [
       "<div>\n",
       "<style scoped>\n",
       "    .dataframe tbody tr th:only-of-type {\n",
       "        vertical-align: middle;\n",
       "    }\n",
       "\n",
       "    .dataframe tbody tr th {\n",
       "        vertical-align: top;\n",
       "    }\n",
       "\n",
       "    .dataframe thead th {\n",
       "        text-align: right;\n",
       "    }\n",
       "</style>\n",
       "<table border=\"1\" class=\"dataframe\">\n",
       "  <thead>\n",
       "    <tr style=\"text-align: right;\">\n",
       "      <th></th>\n",
       "      <th>folio</th>\n",
       "      <th>intp</th>\n",
       "      <th>entidad</th>\n",
       "      <th>desc_ent</th>\n",
       "      <th>sexo</th>\n",
       "      <th>edad</th>\n",
       "      <th>meses</th>\n",
       "      <th>peso</th>\n",
       "      <th>ropa</th>\n",
       "      <th>talla</th>\n",
       "      <th>emb</th>\n",
       "      <th>temb</th>\n",
       "      <th>cintura</th>\n",
       "      <th>cadera</th>\n",
       "      <th>sistol</th>\n",
       "      <th>diastol</th>\n",
       "      <th>hpresion</th>\n",
       "      <th>tbrazo</th>\n",
       "      <th>htension</th>\n",
       "      <th>PrimaryLast</th>\n",
       "      <th>code_upm</th>\n",
       "      <th>est_dis</th>\n",
       "      <th>est_urb</th>\n",
       "      <th>est_marg</th>\n",
       "      <th>pondef</th>\n",
       "      <th>est_var</th>\n",
       "    </tr>\n",
       "  </thead>\n",
       "  <tbody>\n",
       "    <tr>\n",
       "      <th>0</th>\n",
       "      <td>210295</td>\n",
       "      <td>2</td>\n",
       "      <td>21</td>\n",
       "      <td>PUEBLA</td>\n",
       "      <td>2</td>\n",
       "      <td>38</td>\n",
       "      <td>8</td>\n",
       "      <td>73.700</td>\n",
       "      <td>2</td>\n",
       "      <td>146.40</td>\n",
       "      <td>4</td>\n",
       "      <td></td>\n",
       "      <td>98.70</td>\n",
       "      <td>106.00</td>\n",
       "      <td>63.25</td>\n",
       "      <td>53.25</td>\n",
       "      <td>16:30</td>\n",
       "      <td>2</td>\n",
       "      <td>16:35</td>\n",
       "      <td>1</td>\n",
       "      <td>R2101</td>\n",
       "      <td>5</td>\n",
       "      <td>3</td>\n",
       "      <td>1</td>\n",
       "      <td>3470.002176</td>\n",
       "      <td>215</td>\n",
       "    </tr>\n",
       "    <tr>\n",
       "      <th>1</th>\n",
       "      <td>101655</td>\n",
       "      <td>3</td>\n",
       "      <td>10</td>\n",
       "      <td>DURANGO</td>\n",
       "      <td>2</td>\n",
       "      <td>11</td>\n",
       "      <td>11</td>\n",
       "      <td>35.650</td>\n",
       "      <td>2</td>\n",
       "      <td>145.10</td>\n",
       "      <td></td>\n",
       "      <td></td>\n",
       "      <td>64.00</td>\n",
       "      <td>75.00</td>\n",
       "      <td>70.00</td>\n",
       "      <td>50.00</td>\n",
       "      <td>15:25</td>\n",
       "      <td>3</td>\n",
       "      <td>15:25</td>\n",
       "      <td>1</td>\n",
       "      <td>M1041</td>\n",
       "      <td>1</td>\n",
       "      <td>1</td>\n",
       "      <td>1</td>\n",
       "      <td>417.946672</td>\n",
       "      <td>101</td>\n",
       "    </tr>\n",
       "    <tr>\n",
       "      <th>2</th>\n",
       "      <td>10287</td>\n",
       "      <td>6</td>\n",
       "      <td>1</td>\n",
       "      <td>AGUASCALIENTES</td>\n",
       "      <td>2</td>\n",
       "      <td>18</td>\n",
       "      <td>8</td>\n",
       "      <td>54.800</td>\n",
       "      <td>1</td>\n",
       "      <td>162.00</td>\n",
       "      <td>4</td>\n",
       "      <td></td>\n",
       "      <td>67.60</td>\n",
       "      <td>94.30</td>\n",
       "      <td>70.50</td>\n",
       "      <td>41.00</td>\n",
       "      <td>9:40</td>\n",
       "      <td>1</td>\n",
       "      <td>9:40</td>\n",
       "      <td>1</td>\n",
       "      <td>M0108</td>\n",
       "      <td>5</td>\n",
       "      <td>3</td>\n",
       "      <td>1</td>\n",
       "      <td>472.980811</td>\n",
       "      <td>15</td>\n",
       "    </tr>\n",
       "    <tr>\n",
       "      <th>3</th>\n",
       "      <td>91526</td>\n",
       "      <td>4</td>\n",
       "      <td>9</td>\n",
       "      <td>DISTRITO FEDERAL</td>\n",
       "      <td>1</td>\n",
       "      <td>10</td>\n",
       "      <td>8</td>\n",
       "      <td>33.400</td>\n",
       "      <td>2</td>\n",
       "      <td>146.50</td>\n",
       "      <td></td>\n",
       "      <td></td>\n",
       "      <td>60.60</td>\n",
       "      <td>72.20</td>\n",
       "      <td>71.00</td>\n",
       "      <td>64.00</td>\n",
       "      <td>7:40</td>\n",
       "      <td>3</td>\n",
       "      <td>7:45</td>\n",
       "      <td>1</td>\n",
       "      <td>M0931</td>\n",
       "      <td>4</td>\n",
       "      <td>3</td>\n",
       "      <td>2</td>\n",
       "      <td>1832.581391</td>\n",
       "      <td>94</td>\n",
       "    </tr>\n",
       "    <tr>\n",
       "      <th>4</th>\n",
       "      <td>210939</td>\n",
       "      <td>3</td>\n",
       "      <td>21</td>\n",
       "      <td>PUEBLA</td>\n",
       "      <td>2</td>\n",
       "      <td>19</td>\n",
       "      <td>3</td>\n",
       "      <td>97.950</td>\n",
       "      <td>2</td>\n",
       "      <td>161.00</td>\n",
       "      <td>4</td>\n",
       "      <td></td>\n",
       "      <td>113.00</td>\n",
       "      <td>127.00</td>\n",
       "      <td>72.00</td>\n",
       "      <td>53.50</td>\n",
       "      <td>6:00</td>\n",
       "      <td>2</td>\n",
       "      <td>6:00</td>\n",
       "      <td>1</td>\n",
       "      <td>M2123</td>\n",
       "      <td>5</td>\n",
       "      <td>3</td>\n",
       "      <td>1</td>\n",
       "      <td>7622.066564</td>\n",
       "      <td>215</td>\n",
       "    </tr>\n",
       "    <tr>\n",
       "      <th>...</th>\n",
       "      <td>...</td>\n",
       "      <td>...</td>\n",
       "      <td>...</td>\n",
       "      <td>...</td>\n",
       "      <td>...</td>\n",
       "      <td>...</td>\n",
       "      <td>...</td>\n",
       "      <td>...</td>\n",
       "      <td>...</td>\n",
       "      <td>...</td>\n",
       "      <td>...</td>\n",
       "      <td>...</td>\n",
       "      <td>...</td>\n",
       "      <td>...</td>\n",
       "      <td>...</td>\n",
       "      <td>...</td>\n",
       "      <td>...</td>\n",
       "      <td>...</td>\n",
       "      <td>...</td>\n",
       "      <td>...</td>\n",
       "      <td>...</td>\n",
       "      <td>...</td>\n",
       "      <td>...</td>\n",
       "      <td>...</td>\n",
       "      <td>...</td>\n",
       "      <td>...</td>\n",
       "    </tr>\n",
       "    <tr>\n",
       "      <th>95</th>\n",
       "      <td>91148</td>\n",
       "      <td>2</td>\n",
       "      <td>9</td>\n",
       "      <td>DISTRITO FEDERAL</td>\n",
       "      <td>2</td>\n",
       "      <td>43</td>\n",
       "      <td>1</td>\n",
       "      <td>60.500</td>\n",
       "      <td>1</td>\n",
       "      <td>148.55</td>\n",
       "      <td>4</td>\n",
       "      <td></td>\n",
       "      <td>80.00</td>\n",
       "      <td>95.95</td>\n",
       "      <td>84.75</td>\n",
       "      <td>56.00</td>\n",
       "      <td>9:34</td>\n",
       "      <td>1</td>\n",
       "      <td>9:42</td>\n",
       "      <td>1</td>\n",
       "      <td>R0910</td>\n",
       "      <td>4</td>\n",
       "      <td>3</td>\n",
       "      <td>2</td>\n",
       "      <td>2552.981391</td>\n",
       "      <td>94</td>\n",
       "    </tr>\n",
       "    <tr>\n",
       "      <th>96</th>\n",
       "      <td>20309</td>\n",
       "      <td>1</td>\n",
       "      <td>2</td>\n",
       "      <td>BAJA CALIFORNIA</td>\n",
       "      <td>2</td>\n",
       "      <td>26</td>\n",
       "      <td>10</td>\n",
       "      <td>47.325</td>\n",
       "      <td>1</td>\n",
       "      <td>151.00</td>\n",
       "      <td>4</td>\n",
       "      <td></td>\n",
       "      <td>73.00</td>\n",
       "      <td>87.00</td>\n",
       "      <td>85.00</td>\n",
       "      <td>60.00</td>\n",
       "      <td>19:30</td>\n",
       "      <td>3</td>\n",
       "      <td>19:30</td>\n",
       "      <td>1</td>\n",
       "      <td>R0202</td>\n",
       "      <td>4</td>\n",
       "      <td>2</td>\n",
       "      <td>2</td>\n",
       "      <td>420.792175</td>\n",
       "      <td>24</td>\n",
       "    </tr>\n",
       "    <tr>\n",
       "      <th>97</th>\n",
       "      <td>21863</td>\n",
       "      <td>3</td>\n",
       "      <td>2</td>\n",
       "      <td>BAJA CALIFORNIA</td>\n",
       "      <td>2</td>\n",
       "      <td>19</td>\n",
       "      <td>3</td>\n",
       "      <td>49.725</td>\n",
       "      <td>1</td>\n",
       "      <td>152.50</td>\n",
       "      <td>4</td>\n",
       "      <td></td>\n",
       "      <td>75.00</td>\n",
       "      <td>90.00</td>\n",
       "      <td>85.00</td>\n",
       "      <td>75.00</td>\n",
       "      <td>17:45</td>\n",
       "      <td>3</td>\n",
       "      <td>17:45</td>\n",
       "      <td>1</td>\n",
       "      <td>R0217</td>\n",
       "      <td>6</td>\n",
       "      <td>3</td>\n",
       "      <td>2</td>\n",
       "      <td>509.560021</td>\n",
       "      <td>26</td>\n",
       "    </tr>\n",
       "    <tr>\n",
       "      <th>98</th>\n",
       "      <td>70225</td>\n",
       "      <td>3</td>\n",
       "      <td>7</td>\n",
       "      <td>CHIAPAS</td>\n",
       "      <td>1</td>\n",
       "      <td>11</td>\n",
       "      <td>5</td>\n",
       "      <td>30.325</td>\n",
       "      <td>1</td>\n",
       "      <td>133.10</td>\n",
       "      <td></td>\n",
       "      <td></td>\n",
       "      <td>61.35</td>\n",
       "      <td>68.55</td>\n",
       "      <td>85.00</td>\n",
       "      <td>60.00</td>\n",
       "      <td>15:20</td>\n",
       "      <td>3</td>\n",
       "      <td>15:20</td>\n",
       "      <td>1</td>\n",
       "      <td>M0705</td>\n",
       "      <td>1</td>\n",
       "      <td>1</td>\n",
       "      <td>1</td>\n",
       "      <td>931.311677</td>\n",
       "      <td>71</td>\n",
       "    </tr>\n",
       "    <tr>\n",
       "      <th>99</th>\n",
       "      <td>80717</td>\n",
       "      <td>5</td>\n",
       "      <td>8</td>\n",
       "      <td>CHIHUAHUA</td>\n",
       "      <td>1</td>\n",
       "      <td>11</td>\n",
       "      <td>1</td>\n",
       "      <td>53.400</td>\n",
       "      <td>1</td>\n",
       "      <td>143.50</td>\n",
       "      <td></td>\n",
       "      <td></td>\n",
       "      <td>88.50</td>\n",
       "      <td>89.30</td>\n",
       "      <td>85.00</td>\n",
       "      <td>60.00</td>\n",
       "      <td>16:00</td>\n",
       "      <td>3</td>\n",
       "      <td>16:00</td>\n",
       "      <td>1</td>\n",
       "      <td>M0817</td>\n",
       "      <td>5</td>\n",
       "      <td>3</td>\n",
       "      <td>1</td>\n",
       "      <td>2540.735831</td>\n",
       "      <td>85</td>\n",
       "    </tr>\n",
       "  </tbody>\n",
       "</table>\n",
       "<p>100 rows × 26 columns</p>\n",
       "</div>"
      ],
      "text/plain": [
       "     folio  intp  entidad          desc_ent  sexo  edad  meses    peso  ropa  \\\n",
       "0   210295     2       21            PUEBLA     2    38      8  73.700     2   \n",
       "1   101655     3       10           DURANGO     2    11     11  35.650     2   \n",
       "2    10287     6        1    AGUASCALIENTES     2    18      8  54.800     1   \n",
       "3    91526     4        9  DISTRITO FEDERAL     1    10      8  33.400     2   \n",
       "4   210939     3       21            PUEBLA     2    19      3  97.950     2   \n",
       "..     ...   ...      ...               ...   ...   ...    ...     ...   ...   \n",
       "95   91148     2        9  DISTRITO FEDERAL     2    43      1  60.500     1   \n",
       "96   20309     1        2   BAJA CALIFORNIA     2    26     10  47.325     1   \n",
       "97   21863     3        2   BAJA CALIFORNIA     2    19      3  49.725     1   \n",
       "98   70225     3        7           CHIAPAS     1    11      5  30.325     1   \n",
       "99   80717     5        8         CHIHUAHUA     1    11      1  53.400     1   \n",
       "\n",
       "     talla emb temb  cintura  cadera  sistol  diastol hpresion tbrazo  \\\n",
       "0   146.40   4         98.70  106.00   63.25    53.25    16:30      2   \n",
       "1   145.10             64.00   75.00   70.00    50.00    15:25      3   \n",
       "2   162.00   4         67.60   94.30   70.50    41.00     9:40      1   \n",
       "3   146.50             60.60   72.20   71.00    64.00     7:40      3   \n",
       "4   161.00   4        113.00  127.00   72.00    53.50     6:00      2   \n",
       "..     ...  ..  ...      ...     ...     ...      ...      ...    ...   \n",
       "95  148.55   4         80.00   95.95   84.75    56.00     9:34      1   \n",
       "96  151.00   4         73.00   87.00   85.00    60.00    19:30      3   \n",
       "97  152.50   4         75.00   90.00   85.00    75.00    17:45      3   \n",
       "98  133.10             61.35   68.55   85.00    60.00    15:20      3   \n",
       "99  143.50             88.50   89.30   85.00    60.00    16:00      3   \n",
       "\n",
       "   htension  PrimaryLast code_upm  est_dis  est_urb  est_marg       pondef  \\\n",
       "0     16:35            1    R2101        5        3         1  3470.002176   \n",
       "1     15:25            1    M1041        1        1         1   417.946672   \n",
       "2      9:40            1    M0108        5        3         1   472.980811   \n",
       "3      7:45            1    M0931        4        3         2  1832.581391   \n",
       "4      6:00            1    M2123        5        3         1  7622.066564   \n",
       "..      ...          ...      ...      ...      ...       ...          ...   \n",
       "95     9:42            1    R0910        4        3         2  2552.981391   \n",
       "96    19:30            1    R0202        4        2         2   420.792175   \n",
       "97    17:45            1    R0217        6        3         2   509.560021   \n",
       "98    15:20            1    M0705        1        1         1   931.311677   \n",
       "99    16:00            1    M0817        5        3         1  2540.735831   \n",
       "\n",
       "    est_var  \n",
       "0       215  \n",
       "1       101  \n",
       "2        15  \n",
       "3        94  \n",
       "4       215  \n",
       "..      ...  \n",
       "95       94  \n",
       "96       24  \n",
       "97       26  \n",
       "98       71  \n",
       "99       85  \n",
       "\n",
       "[100 rows x 26 columns]"
      ]
     },
     "execution_count": 225,
     "metadata": {},
     "output_type": "execute_result"
    }
   ],
   "source": [
    "#desplegar los primeros datos del 'dataframe' para revisar qué variables y qué tipo de datos hay\n",
    "#tail\n",
    "medidas.head(100)"
   ]
  },
  {
   "cell_type": "code",
   "execution_count": 226,
   "id": "766a943c",
   "metadata": {
    "slideshow": {
     "slide_type": "skip"
    }
   },
   "outputs": [
    {
     "data": {
      "text/plain": [
       "['folio',\n",
       " 'intp',\n",
       " 'entidad',\n",
       " 'desc_ent',\n",
       " 'sexo',\n",
       " 'edad',\n",
       " 'meses',\n",
       " 'peso',\n",
       " 'ropa',\n",
       " 'talla',\n",
       " 'emb',\n",
       " 'temb',\n",
       " 'cintura',\n",
       " 'cadera',\n",
       " 'sistol',\n",
       " 'diastol',\n",
       " 'hpresion',\n",
       " 'tbrazo',\n",
       " 'htension',\n",
       " 'PrimaryLast',\n",
       " 'code_upm',\n",
       " 'est_dis',\n",
       " 'est_urb',\n",
       " 'est_marg',\n",
       " 'pondef',\n",
       " 'est_var']"
      ]
     },
     "execution_count": 226,
     "metadata": {},
     "output_type": "execute_result"
    }
   ],
   "source": [
    "#listar las variables\n",
    "list(medidas.columns)"
   ]
  },
  {
   "cell_type": "code",
   "execution_count": 227,
   "id": "16ead5a4",
   "metadata": {
    "slideshow": {
     "slide_type": "skip"
    }
   },
   "outputs": [
    {
     "data": {
      "text/plain": [
       "folio            int64\n",
       "intp             int64\n",
       "entidad          int64\n",
       "desc_ent        object\n",
       "sexo             int64\n",
       "edad             int64\n",
       "meses            int64\n",
       "peso           float64\n",
       "ropa             int64\n",
       "talla          float64\n",
       "emb             object\n",
       "temb            object\n",
       "cintura        float64\n",
       "cadera         float64\n",
       "sistol         float64\n",
       "diastol        float64\n",
       "hpresion        object\n",
       "tbrazo          object\n",
       "htension        object\n",
       "PrimaryLast      int64\n",
       "code_upm        object\n",
       "est_dis          int64\n",
       "est_urb          int64\n",
       "est_marg         int64\n",
       "pondef         float64\n",
       "est_var          int64\n",
       "dtype: object"
      ]
     },
     "execution_count": 227,
     "metadata": {},
     "output_type": "execute_result"
    }
   ],
   "source": [
    "#listar las variables y sus tipos\n",
    "medidas.dtypes"
   ]
  },
  {
   "cell_type": "code",
   "execution_count": 228,
   "id": "9fab4f61",
   "metadata": {
    "slideshow": {
     "slide_type": "skip"
    }
   },
   "outputs": [
    {
     "name": "stdout",
     "output_type": "stream",
     "text": [
      "entidad\n",
      "1     88.149370\n",
      "2     89.471654\n",
      "3     91.118965\n",
      "4     88.981898\n",
      "5     89.836213\n",
      "6     89.892869\n",
      "7     82.999191\n",
      "8     89.816287\n",
      "9     90.756452\n",
      "10    89.202460\n",
      "11    87.549565\n",
      "12    85.051809\n",
      "13    84.775632\n",
      "14    88.898410\n",
      "15    85.409663\n",
      "16    88.731404\n",
      "17    88.672978\n",
      "18    86.833239\n",
      "19    89.627504\n",
      "20    84.104386\n",
      "21    84.904149\n",
      "22    86.921529\n",
      "23    88.417425\n",
      "24    85.068252\n",
      "25    88.502231\n",
      "26    88.577966\n",
      "27    88.054373\n",
      "28    90.423914\n",
      "29    86.258514\n",
      "30    86.698646\n",
      "31    88.392504\n",
      "32    87.583362\n",
      "Name: cintura, dtype: float64\n"
     ]
    }
   ],
   "source": [
    "estado = medidas.groupby('entidad')['cintura'].mean()\n",
    "#estado = medidas.groupby('desc_ent')['cintura'].mean()\n",
    "#estado = medidas.groupby('desc_ent')['cintura'].median()\n",
    "print(estado)"
   ]
  },
  {
   "cell_type": "code",
   "execution_count": 229,
   "id": "98520085",
   "metadata": {
    "slideshow": {
     "slide_type": "slide"
    }
   },
   "outputs": [
    {
     "data": {
      "image/png": "[encoded data removed]",
      "text/plain": [
       "<Figure size 720x288 with 1 Axes>"
      ]
     },
     "metadata": {
      "needs_background": "light"
     },
     "output_type": "display_data"
    }
   ],
   "source": [
    "estado.plot(kind='line', figsize=(10,4))\n",
    "#estado.plot(kind='bar', figsize=(10,4))\n",
    "\n",
    "plt.show()"
   ]
  },
  {
   "cell_type": "code",
   "execution_count": 230,
   "id": "553514c9",
   "metadata": {
    "slideshow": {
     "slide_type": "skip"
    }
   },
   "outputs": [
    {
     "data": {
      "image/png": "[encoded data removed]",
      "text/plain": [
       "<Figure size 1152x432 with 1 Axes>"
      ]
     },
     "metadata": {
      "needs_background": "light"
     },
     "output_type": "display_data"
    }
   ],
   "source": [
    "plt.figure(figsize=(16, 6))\n",
    "sns.boxplot(x= 'entidad', y='cintura', data=medidas)\n",
    "plt.show()"
   ]
  },
  {
   "cell_type": "code",
   "execution_count": 231,
   "id": "9352a9e0",
   "metadata": {},
   "outputs": [
    {
     "name": "stdout",
     "output_type": "stream",
     "text": [
      "sexo\n",
      "1    87.502601\n",
      "2    88.006300\n",
      "Name: cintura, dtype: float64\n"
     ]
    }
   ],
   "source": [
    "género = medidas.groupby('sexo')['cintura'].mean()\n",
    "print(género)"
   ]
  },
  {
   "cell_type": "code",
   "execution_count": 232,
   "id": "9bc18e8c",
   "metadata": {
    "scrolled": true
   },
   "outputs": [
    {
     "data": {
      "text/plain": [
       "<AxesSubplot:xlabel='sexo', ylabel='cintura'>"
      ]
     },
     "execution_count": 232,
     "metadata": {},
     "output_type": "execute_result"
    },
    {
     "data": {
      "image/png": "[encoded data removed]",
      "text/plain": [
       "<Figure size 1152x432 with 1 Axes>"
      ]
     },
     "metadata": {
      "needs_background": "light"
     },
     "output_type": "display_data"
    }
   ],
   "source": [
    "plt.figure(figsize=(16, 6))\n",
    "sns.boxplot(x= 'sexo', y='cintura', data=medidas)"
   ]
  },
  {
   "cell_type": "code",
   "execution_count": 233,
   "id": "43bc3493",
   "metadata": {},
   "outputs": [
    {
     "name": "stdout",
     "output_type": "stream",
     "text": [
      "entidad  sexo\n",
      "1        1       88.349338\n",
      "         2       87.968018\n",
      "2        1       90.115303\n",
      "         2       88.864786\n",
      "3        1       92.337778\n",
      "                   ...    \n",
      "30       2       87.174520\n",
      "31       1       88.126653\n",
      "         2       88.595457\n",
      "32       1       87.045247\n",
      "         2       88.034076\n",
      "Name: cintura, Length: 64, dtype: float64\n"
     ]
    }
   ],
   "source": [
    "#entidad y sexo\n",
    "estado_género = medidas.groupby(['entidad','sexo'])['cintura'].mean()\n",
    "print(estado_género)"
   ]
  },
  {
   "cell_type": "code",
   "execution_count": 234,
   "id": "338a0b1a",
   "metadata": {},
   "outputs": [],
   "source": [
    "peso = medidas['peso']\n",
    "talla = medidas['talla']\n",
    "cintura = medidas['cintura']"
   ]
  },
  {
   "cell_type": "code",
   "execution_count": 235,
   "id": "20082c40",
   "metadata": {},
   "outputs": [
    {
     "data": {
      "image/png": "[encoded data removed]",
      "text/plain": [
       "<Figure size 360x360 with 1 Axes>"
      ]
     },
     "metadata": {
      "needs_background": "light"
     },
     "output_type": "display_data"
    }
   ],
   "source": [
    "plt.figure(figsize=(5,5))\n",
    "plt.scatter(x = peso, y = cintura)\n",
    "plt.xlabel(\"'peso'\")\n",
    "plt.ylabel(\"'cintura'\")\n",
    "plt.title(\"Diagrama de dispersión de peso vs cintura\")\n",
    "\n",
    "plt.show()"
   ]
  },
  {
   "cell_type": "code",
   "execution_count": 236,
   "id": "86159bcc",
   "metadata": {},
   "outputs": [
    {
     "name": "stdout",
     "output_type": "stream",
     "text": [
      "0.7916768697606905\n"
     ]
    }
   ],
   "source": [
    "#calcular correlación [-1 a 1]\n",
    "correlación_cinturapeso = cintura.corr(peso)\n",
    "print(correlación_cinturapeso)"
   ]
  },
  {
   "cell_type": "code",
   "execution_count": 237,
   "id": "49650cc3",
   "metadata": {},
   "outputs": [
    {
     "data": {
      "image/png": "[encoded data removed]",
      "text/plain": [
       "<Figure size 360x360 with 1 Axes>"
      ]
     },
     "metadata": {
      "needs_background": "light"
     },
     "output_type": "display_data"
    }
   ],
   "source": [
    "plt.figure(figsize=(5,5))\n",
    "plt.scatter(x = talla, y = cintura)\n",
    "plt.xlabel(\"'talla'\")\n",
    "plt.ylabel(\"'cintura'\")\n",
    "plt.title(\"Diagrama de dispersión de talla vs cintura\")\n",
    "\n",
    "plt.show()"
   ]
  },
  {
   "cell_type": "code",
   "execution_count": 238,
   "id": "b054af8b",
   "metadata": {},
   "outputs": [
    {
     "name": "stdout",
     "output_type": "stream",
     "text": [
      "0.2452078367252199\n"
     ]
    }
   ],
   "source": [
    "#calcular correlación\n",
    "correlación_cinturatalla = cintura.corr(talla)\n",
    "print(correlación_cinturatalla)"
   ]
  },
  {
   "cell_type": "code",
   "execution_count": 239,
   "id": "96ffb50a",
   "metadata": {},
   "outputs": [
    {
     "data": {
      "text/plain": [
       "folio            0\n",
       "intp             0\n",
       "entidad          0\n",
       "desc_ent         0\n",
       "sexo             0\n",
       "edad             0\n",
       "meses            0\n",
       "peso             0\n",
       "ropa             0\n",
       "talla            0\n",
       "emb              0\n",
       "temb             0\n",
       "cintura        608\n",
       "cadera         608\n",
       "sistol           0\n",
       "diastol          0\n",
       "hpresion         0\n",
       "tbrazo           0\n",
       "htension         0\n",
       "PrimaryLast      0\n",
       "code_upm         0\n",
       "est_dis          0\n",
       "est_urb          0\n",
       "est_marg         0\n",
       "pondef           0\n",
       "est_var          0\n",
       "dtype: int64"
      ]
     },
     "execution_count": 239,
     "metadata": {},
     "output_type": "execute_result"
    }
   ],
   "source": [
    "#¿Cuántos datos faltantes hay?\n",
    "medidas.isna().sum()"
   ]
  },
  {
   "cell_type": "code",
   "execution_count": 240,
   "id": "0c9f4759",
   "metadata": {},
   "outputs": [
    {
     "data": {
      "text/plain": [
       "17"
      ]
     },
     "execution_count": 240,
     "metadata": {},
     "output_type": "execute_result"
    }
   ],
   "source": [
    "#Adicionalmente, ¿cuántos medidas faltantes hay?\n",
    "medidas.loc[medidas.cintura == 222.2, 'cintura'].count()"
   ]
  },
  {
   "cell_type": "code",
   "execution_count": 241,
   "id": "01613890",
   "metadata": {},
   "outputs": [
    {
     "data": {
      "text/plain": [
       "folio          18032\n",
       "intp           18032\n",
       "entidad        18032\n",
       "desc_ent       18032\n",
       "sexo           18032\n",
       "edad           18032\n",
       "meses          18032\n",
       "peso           18032\n",
       "ropa           18032\n",
       "talla          18032\n",
       "emb            18032\n",
       "temb           18032\n",
       "cintura        18032\n",
       "cadera         18032\n",
       "sistol         18032\n",
       "diastol        18032\n",
       "hpresion       18032\n",
       "tbrazo         18032\n",
       "htension       18032\n",
       "PrimaryLast    18032\n",
       "code_upm       18032\n",
       "est_dis        18032\n",
       "est_urb        18032\n",
       "est_marg       18032\n",
       "pondef         18032\n",
       "est_var        18032\n",
       "dtype: int64"
      ]
     },
     "execution_count": 241,
     "metadata": {},
     "output_type": "execute_result"
    }
   ],
   "source": [
    "#Eliminar los datos faltantes\n",
    "medidascompletas = medidas.dropna()\n",
    "medidascompletas.count()"
   ]
  },
  {
   "cell_type": "code",
   "execution_count": 242,
   "id": "ac17a0d6",
   "metadata": {
    "scrolled": true
   },
   "outputs": [
    {
     "data": {
      "text/plain": [
       "0"
      ]
     },
     "execution_count": 242,
     "metadata": {},
     "output_type": "execute_result"
    }
   ],
   "source": [
    "#Eliminación de valores atípicos\n",
    "medidascompletas2 = medidascompletas[medidascompletas['cintura'] != 222.2]\n",
    "medidascompletas2 = medidascompletas2[medidascompletas2['cintura'] != 222.21]\n",
    "medidascompletas2 = medidascompletas2[medidascompletas2['cintura'] != 222.22]\n",
    "#medidascompletas2.count()\n",
    "\n",
    "#Validación, ¿cuántos medidas faltantes hay?\n",
    "medidascompletas2.loc[medidascompletas2.cintura == 222.22, 'cintura'].count()"
   ]
  },
  {
   "cell_type": "code",
   "execution_count": 243,
   "id": "3e59101c",
   "metadata": {},
   "outputs": [
    {
     "name": "stdout",
     "output_type": "stream",
     "text": [
      "17985 17985\n"
     ]
    }
   ],
   "source": [
    "peso = medidascompletas2['peso']\n",
    "talla = medidascompletas2['talla']\n",
    "cintura = medidascompletas2['cintura']\n",
    "print(talla.count(),peso.count())"
   ]
  },
  {
   "cell_type": "code",
   "execution_count": 244,
   "id": "2a5689a2",
   "metadata": {},
   "outputs": [
    {
     "name": "stdout",
     "output_type": "stream",
     "text": [
      "0.8661113096674505 0.2774161344265726\n"
     ]
    }
   ],
   "source": [
    "correlación_cinturapeso = cintura.corr(peso)\n",
    "correlación_cinturatalla = cintura.corr(talla)\n",
    "print(correlación_cinturapeso, correlación_cinturatalla)"
   ]
  },
  {
   "cell_type": "code",
   "execution_count": 311,
   "id": "f49d08eb",
   "metadata": {},
   "outputs": [
    {
     "name": "stdout",
     "output_type": "stream",
     "text": [
      "                            OLS Regression Results                            \n",
      "==============================================================================\n",
      "Dep. Variable:                cintura   R-squared:                       0.750\n",
      "Model:                            OLS   Adj. R-squared:                  0.750\n",
      "Method:                 Least Squares   F-statistic:                 5.399e+04\n",
      "Date:                Fri, 03 Sep 2021   Prob (F-statistic):               0.00\n",
      "Time:                        23:54:18   Log-Likelihood:                -62358.\n",
      "No. Observations:               17985   AIC:                         1.247e+05\n",
      "Df Residuals:                   17983   BIC:                         1.247e+05\n",
      "Df Model:                           1                                         \n",
      "Covariance Type:            nonrobust                                         \n",
      "==============================================================================\n",
      "                 coef    std err          t      P>|t|      [0.025      0.975]\n",
      "------------------------------------------------------------------------------\n",
      "const         38.5539      0.218    176.741      0.000      38.126      38.981\n",
      "peso           0.7557      0.003    232.361      0.000       0.749       0.762\n",
      "==============================================================================\n",
      "Omnibus:                     3051.851   Durbin-Watson:                   1.819\n",
      "Prob(Omnibus):                  0.000   Jarque-Bera (JB):            51957.074\n",
      "Skew:                           0.292   Prob(JB):                         0.00\n",
      "Kurtosis:                      11.306   Cond. No.                         253.\n",
      "==============================================================================\n",
      "\n",
      "Notes:\n",
      "[1] Standard Errors assume that the covariance matrix of the errors is correctly specified.\n"
     ]
    }
   ],
   "source": [
    "#Regresión lineal - Alternativa 1 para peso\n",
    "y = cintura\n",
    "x = peso\n",
    "\n",
    "#Agrega una constante = 1 que es el multiplicador del intercepto (True - al inicio)\n",
    "constant = sm.tools.tools.add_constant(x,prepend=True,has_constant='skip')\n",
    "\n",
    "results = sm.OLS(y,constant).fit()\n",
    "\n",
    "print(results.summary())\n",
    "\n",
    "# Palomita en R-Squared = 1\n",
    "# 2 palomita p rango = [38.98 = cercano a 0.97]\n",
    "# 3 palomita Kurtosis = 3 y Skew = 0"
   ]
  },
  {
   "cell_type": "code",
   "execution_count": 312,
   "id": "2782564b",
   "metadata": {},
   "outputs": [
    {
     "data": {
      "text/plain": [
       "array([94.24656091, 65.49344017, 79.96445889, ..., 73.88134136,\n",
       "       83.17604268, 99.00726158])"
      ]
     },
     "execution_count": 312,
     "metadata": {},
     "output_type": "execute_result"
    }
   ],
   "source": [
    "#Para generar predicciones\n",
    "results.predict()"
   ]
  },
  {
   "cell_type": "code",
   "execution_count": 317,
   "id": "61c2e925",
   "metadata": {},
   "outputs": [
    {
     "name": "stdout",
     "output_type": "stream",
     "text": [
      "0        20.548990\n",
      "1        29.844605\n",
      "2        25.166260\n",
      "3        30.394280\n",
      "4        14.624715\n",
      "           ...    \n",
      "18635    20.035960\n",
      "18636    21.599480\n",
      "18637    27.132875\n",
      "18638    24.127985\n",
      "18639    19.009900\n",
      "Name: peso, Length: 17985, dtype: float64\n"
     ]
    }
   ],
   "source": [
    "cintura_eq = (0.7557 * peso) + 38.5539\n",
    "peso_original = cintura_eq - peso\n",
    "print(peso_original)"
   ]
  },
  {
   "cell_type": "code",
   "execution_count": 314,
   "id": "01a02ed0",
   "metadata": {},
   "outputs": [
    {
     "name": "stdout",
     "output_type": "stream",
     "text": [
      "0       -20.546561\n",
      "1       -29.843440\n",
      "2       -25.164459\n",
      "3       -30.393190\n",
      "4       -14.621480\n",
      "           ...    \n",
      "18635   -20.033461\n",
      "18636   -21.597194\n",
      "18637   -27.131341\n",
      "18638   -24.126043\n",
      "18639   -19.007262\n",
      "Name: peso, Length: 17985, dtype: float64\n"
     ]
    }
   ],
   "source": [
    "predict_original = results.predict()\n",
    "\n",
    "residuals_original = peso - predict_original\n",
    "\n",
    "print(residuals_original)"
   ]
  },
  {
   "cell_type": "code",
   "execution_count": 315,
   "id": "c109c82a",
   "metadata": {},
   "outputs": [
    {
     "data": {
      "image/png": "[encoded data removed]",
      "text/plain": [
       "<Figure size 432x288 with 1 Axes>"
      ]
     },
     "metadata": {
      "needs_background": "light"
     },
     "output_type": "display_data"
    }
   ],
   "source": [
    "import matplotlib.pyplot as plt\n",
    "\n",
    "plt.scatter(peso,residuals_original)\n",
    "\n",
    "plt.show()"
   ]
  },
  {
   "cell_type": "code",
   "execution_count": 316,
   "id": "d97ad99d",
   "metadata": {},
   "outputs": [
    {
     "data": {
      "image/png": "[encoded data removed]",
      "text/plain": [
       "<Figure size 432x288 with 1 Axes>"
      ]
     },
     "metadata": {
      "needs_background": "light"
     },
     "output_type": "display_data"
    }
   ],
   "source": [
    "sm.graphics.plot_fit(results,1, vlines=False);"
   ]
  },
  {
   "cell_type": "markdown",
   "id": "f52e2912",
   "metadata": {},
   "source": [
    "## Interpretación\n",
    "\n",
    "R-squared \n",
    "Qué tan bien el modelo de regresión representa los datos observados | Varía entre 0 y 1\n",
    "Es la proporción de la variación en la variable dependiente (Y) explicada por el modelo de regresión\n",
    "\n",
    "R-squared adjusted\n",
    "Ajusta de acuerdo a los predictores que no son relevantes en el modelo\n",
    "\n",
    "t\n",
    "El coeficiente, divido por su error estándar. Si el coeficiente es grande, comparado con su error estándar, es probablemente diferente de 0. Para ello, un valor inferior al 5%, indicaría que con 95% de probabilidad la variable tiene un efecto. \n",
    "\n",
    "Jarque-Bera\n",
    "Prueba la hipótesis de normalidad de los residuos\n",
    "(Asimetría^2 + 1/4*(Curtosis-3)^2)*n/6\n",
    "Asimetría = 0 | Curtosis = 3\n",
    "\n",
    "\n",
    "\n"
   ]
  },
  {
   "cell_type": "code",
   "execution_count": 246,
   "id": "c1688aa8",
   "metadata": {},
   "outputs": [
    {
     "data": {
      "text/plain": [
       "array([94.24656091, 65.49344017, 79.96445889, ..., 73.88134136,\n",
       "       83.17604268, 99.00726158])"
      ]
     },
     "execution_count": 246,
     "metadata": {},
     "output_type": "execute_result"
    }
   ],
   "source": [
    "#Para generar predicciones\n",
    "results.predict()"
   ]
  },
  {
   "cell_type": "code",
   "execution_count": 247,
   "id": "b0ee732b",
   "metadata": {},
   "outputs": [
    {
     "data": {
      "image/png": "[encoded data removed]",
      "text/plain": [
       "<Figure size 432x288 with 1 Axes>"
      ]
     },
     "metadata": {
      "needs_background": "light"
     },
     "output_type": "display_data"
    }
   ],
   "source": [
    "sm.graphics.plot_fit(results,1, vlines=False);"
   ]
  },
  {
   "cell_type": "code",
   "execution_count": 248,
   "id": "9895cf5c",
   "metadata": {},
   "outputs": [
    {
     "name": "stdout",
     "output_type": "stream",
     "text": [
      "                            OLS Regression Results                            \n",
      "==============================================================================\n",
      "Dep. Variable:                cintura   R-squared:                       0.077\n",
      "Model:                            OLS   Adj. R-squared:                  0.077\n",
      "Method:                 Least Squares   F-statistic:                     1499.\n",
      "Date:                Fri, 03 Sep 2021   Prob (F-statistic):          4.10e-315\n",
      "Time:                        22:47:22   Log-Likelihood:                -74110.\n",
      "No. Observations:               17985   AIC:                         1.482e+05\n",
      "Df Residuals:                   17983   BIC:                         1.482e+05\n",
      "Df Model:                           1                                         \n",
      "Covariance Type:            nonrobust                                         \n",
      "==============================================================================\n",
      "                 coef    std err          t      P>|t|      [0.025      0.975]\n",
      "------------------------------------------------------------------------------\n",
      "const         24.4178      1.631     14.971      0.000      21.221      27.615\n",
      "talla          0.4021      0.010     38.722      0.000       0.382       0.423\n",
      "==============================================================================\n",
      "Omnibus:                      470.990   Durbin-Watson:                   1.601\n",
      "Prob(Omnibus):                  0.000   Jarque-Bera (JB):              508.136\n",
      "Skew:                           0.406   Prob(JB):                    4.57e-111\n",
      "Kurtosis:                       3.133   Cond. No.                     2.30e+03\n",
      "==============================================================================\n",
      "\n",
      "Notes:\n",
      "[1] Standard Errors assume that the covariance matrix of the errors is correctly specified.\n",
      "[2] The condition number is large, 2.3e+03. This might indicate that there are\n",
      "strong multicollinearity or other numerical problems.\n"
     ]
    }
   ],
   "source": [
    "#Regresión lineal - Alternativa 1 para talla\n",
    "y2 = cintura\n",
    "x2 = talla\n",
    "\n",
    "constant2 = sm.tools.tools.add_constant(x2,prepend=True,has_constant='skip')\n",
    "\n",
    "results2 = sm.OLS(y2,constant2).fit()\n",
    " \n",
    "print(results2.summary())"
   ]
  },
  {
   "cell_type": "code",
   "execution_count": 249,
   "id": "43eccfbf",
   "metadata": {},
   "outputs": [
    {
     "data": {
      "text/plain": [
       "array([83.29241058, 82.76961669, 89.56593726, ..., 84.41842819,\n",
       "       81.72402891, 85.00154445])"
      ]
     },
     "execution_count": 249,
     "metadata": {},
     "output_type": "execute_result"
    }
   ],
   "source": [
    "results2.predict()"
   ]
  },
  {
   "cell_type": "code",
   "execution_count": 250,
   "id": "08e753a7",
   "metadata": {},
   "outputs": [
    {
     "name": "stdout",
     "output_type": "stream",
     "text": [
      "                            OLS Regression Results                            \n",
      "==============================================================================\n",
      "Dep. Variable:                cintura   R-squared:                       0.750\n",
      "Model:                            OLS   Adj. R-squared:                  0.750\n",
      "Method:                 Least Squares   F-statistic:                 5.399e+04\n",
      "Date:                Fri, 03 Sep 2021   Prob (F-statistic):               0.00\n",
      "Time:                        22:47:24   Log-Likelihood:                -62358.\n",
      "No. Observations:               17985   AIC:                         1.247e+05\n",
      "Df Residuals:                   17983   BIC:                         1.247e+05\n",
      "Df Model:                           1                                         \n",
      "Covariance Type:            nonrobust                                         \n",
      "==============================================================================\n",
      "                 coef    std err          t      P>|t|      [0.025      0.975]\n",
      "------------------------------------------------------------------------------\n",
      "Intercept     38.5539      0.218    176.741      0.000      38.126      38.981\n",
      "peso           0.7557      0.003    232.361      0.000       0.749       0.762\n",
      "==============================================================================\n",
      "Omnibus:                     3051.851   Durbin-Watson:                   1.819\n",
      "Prob(Omnibus):                  0.000   Jarque-Bera (JB):            51957.074\n",
      "Skew:                           0.292   Prob(JB):                         0.00\n",
      "Kurtosis:                      11.306   Cond. No.                         253.\n",
      "==============================================================================\n",
      "\n",
      "Notes:\n",
      "[1] Standard Errors assume that the covariance matrix of the errors is correctly specified.\n"
     ]
    }
   ],
   "source": [
    "#Regresión lineal - Alternativa 2 para peso\n",
    "pesoycintura = medidascompletas2[['peso','cintura']]\n",
    "\n",
    "model_ols = sm.OLS.from_formula(\"cintura ~ peso\", data=pesoycintura)\n",
    "\n",
    "result = model_ols.fit()\n",
    "\n",
    "print(result.summary())"
   ]
  },
  {
   "cell_type": "code",
   "execution_count": 251,
   "id": "474f6b93",
   "metadata": {},
   "outputs": [
    {
     "data": {
      "text/plain": [
       "array([94.24656091, 65.49344017, 79.96445889, ..., 73.88134136,\n",
       "       83.17604268, 99.00726158])"
      ]
     },
     "execution_count": 251,
     "metadata": {},
     "output_type": "execute_result"
    }
   ],
   "source": [
    "result.predict()"
   ]
  },
  {
   "cell_type": "code",
   "execution_count": 252,
   "id": "a1386e89",
   "metadata": {},
   "outputs": [
    {
     "name": "stdout",
     "output_type": "stream",
     "text": [
      "0         4.453439\n",
      "1        -1.493440\n",
      "2       -12.364459\n",
      "3        -3.193190\n",
      "4         0.428520\n",
      "           ...    \n",
      "18635    -2.833461\n",
      "18636    12.052806\n",
      "18637    -2.531341\n",
      "18638    16.773957\n",
      "18639     9.142738\n",
      "Name: cintura, Length: 17985, dtype: float64\n"
     ]
    }
   ],
   "source": [
    "predict = result.predict()\n",
    "\n",
    "residuals = medidascompletas2['cintura'] - predict\n",
    "\n",
    "print(residuals)"
   ]
  },
  {
   "cell_type": "code",
   "execution_count": 253,
   "id": "c2f0630b",
   "metadata": {},
   "outputs": [
    {
     "data": {
      "image/png": "[encoded data removed]",
      "text/plain": [
       "<Figure size 432x288 with 1 Axes>"
      ]
     },
     "metadata": {
      "needs_background": "light"
     },
     "output_type": "display_data"
    }
   ],
   "source": [
    "import matplotlib.pyplot as plt\n",
    "\n",
    "plt.scatter(medidascompletas2['peso'],residuals)\n",
    "\n",
    "plt.show()"
   ]
  },
  {
   "cell_type": "code",
   "execution_count": 254,
   "id": "2c91e3d5",
   "metadata": {},
   "outputs": [
    {
     "data": {
      "text/html": [
       "<div>\n",
       "<style scoped>\n",
       "    .dataframe tbody tr th:only-of-type {\n",
       "        vertical-align: middle;\n",
       "    }\n",
       "\n",
       "    .dataframe tbody tr th {\n",
       "        vertical-align: top;\n",
       "    }\n",
       "\n",
       "    .dataframe thead th {\n",
       "        text-align: right;\n",
       "    }\n",
       "</style>\n",
       "<table border=\"1\" class=\"dataframe\">\n",
       "  <thead>\n",
       "    <tr style=\"text-align: right;\">\n",
       "      <th></th>\n",
       "      <th>folio</th>\n",
       "      <th>intp</th>\n",
       "      <th>entidad</th>\n",
       "      <th>desc_ent</th>\n",
       "      <th>sexo</th>\n",
       "      <th>edad</th>\n",
       "      <th>meses</th>\n",
       "      <th>peso</th>\n",
       "      <th>ropa</th>\n",
       "      <th>talla</th>\n",
       "      <th>emb</th>\n",
       "      <th>temb</th>\n",
       "      <th>cintura</th>\n",
       "      <th>cadera</th>\n",
       "      <th>sistol</th>\n",
       "      <th>diastol</th>\n",
       "      <th>hpresion</th>\n",
       "      <th>tbrazo</th>\n",
       "      <th>htension</th>\n",
       "      <th>PrimaryLast</th>\n",
       "      <th>code_upm</th>\n",
       "      <th>est_dis</th>\n",
       "      <th>est_urb</th>\n",
       "      <th>est_marg</th>\n",
       "      <th>pondef</th>\n",
       "      <th>est_var</th>\n",
       "    </tr>\n",
       "  </thead>\n",
       "  <tbody>\n",
       "    <tr>\n",
       "      <th>0</th>\n",
       "      <td>210295</td>\n",
       "      <td>2</td>\n",
       "      <td>21</td>\n",
       "      <td>PUEBLA</td>\n",
       "      <td>2</td>\n",
       "      <td>38</td>\n",
       "      <td>8</td>\n",
       "      <td>73.70</td>\n",
       "      <td>2</td>\n",
       "      <td>146.4</td>\n",
       "      <td>4</td>\n",
       "      <td></td>\n",
       "      <td>98.7</td>\n",
       "      <td>106.0</td>\n",
       "      <td>63.25</td>\n",
       "      <td>53.25</td>\n",
       "      <td>16:30</td>\n",
       "      <td>2</td>\n",
       "      <td>16:35</td>\n",
       "      <td>1</td>\n",
       "      <td>R2101</td>\n",
       "      <td>5</td>\n",
       "      <td>3</td>\n",
       "      <td>1</td>\n",
       "      <td>3470.002176</td>\n",
       "      <td>215</td>\n",
       "    </tr>\n",
       "    <tr>\n",
       "      <th>1</th>\n",
       "      <td>101655</td>\n",
       "      <td>3</td>\n",
       "      <td>10</td>\n",
       "      <td>DURANGO</td>\n",
       "      <td>2</td>\n",
       "      <td>11</td>\n",
       "      <td>11</td>\n",
       "      <td>35.65</td>\n",
       "      <td>2</td>\n",
       "      <td>145.1</td>\n",
       "      <td></td>\n",
       "      <td></td>\n",
       "      <td>64.0</td>\n",
       "      <td>75.0</td>\n",
       "      <td>70.00</td>\n",
       "      <td>50.00</td>\n",
       "      <td>15:25</td>\n",
       "      <td>3</td>\n",
       "      <td>15:25</td>\n",
       "      <td>1</td>\n",
       "      <td>M1041</td>\n",
       "      <td>1</td>\n",
       "      <td>1</td>\n",
       "      <td>1</td>\n",
       "      <td>417.946672</td>\n",
       "      <td>101</td>\n",
       "    </tr>\n",
       "    <tr>\n",
       "      <th>2</th>\n",
       "      <td>10287</td>\n",
       "      <td>6</td>\n",
       "      <td>1</td>\n",
       "      <td>AGUASCALIENTES</td>\n",
       "      <td>2</td>\n",
       "      <td>18</td>\n",
       "      <td>8</td>\n",
       "      <td>54.80</td>\n",
       "      <td>1</td>\n",
       "      <td>162.0</td>\n",
       "      <td>4</td>\n",
       "      <td></td>\n",
       "      <td>67.6</td>\n",
       "      <td>94.3</td>\n",
       "      <td>70.50</td>\n",
       "      <td>41.00</td>\n",
       "      <td>9:40</td>\n",
       "      <td>1</td>\n",
       "      <td>9:40</td>\n",
       "      <td>1</td>\n",
       "      <td>M0108</td>\n",
       "      <td>5</td>\n",
       "      <td>3</td>\n",
       "      <td>1</td>\n",
       "      <td>472.980811</td>\n",
       "      <td>15</td>\n",
       "    </tr>\n",
       "    <tr>\n",
       "      <th>3</th>\n",
       "      <td>91526</td>\n",
       "      <td>4</td>\n",
       "      <td>9</td>\n",
       "      <td>DISTRITO FEDERAL</td>\n",
       "      <td>1</td>\n",
       "      <td>10</td>\n",
       "      <td>8</td>\n",
       "      <td>33.40</td>\n",
       "      <td>2</td>\n",
       "      <td>146.5</td>\n",
       "      <td></td>\n",
       "      <td></td>\n",
       "      <td>60.6</td>\n",
       "      <td>72.2</td>\n",
       "      <td>71.00</td>\n",
       "      <td>64.00</td>\n",
       "      <td>7:40</td>\n",
       "      <td>3</td>\n",
       "      <td>7:45</td>\n",
       "      <td>1</td>\n",
       "      <td>M0931</td>\n",
       "      <td>4</td>\n",
       "      <td>3</td>\n",
       "      <td>2</td>\n",
       "      <td>1832.581391</td>\n",
       "      <td>94</td>\n",
       "    </tr>\n",
       "    <tr>\n",
       "      <th>4</th>\n",
       "      <td>210939</td>\n",
       "      <td>3</td>\n",
       "      <td>21</td>\n",
       "      <td>PUEBLA</td>\n",
       "      <td>2</td>\n",
       "      <td>19</td>\n",
       "      <td>3</td>\n",
       "      <td>97.95</td>\n",
       "      <td>2</td>\n",
       "      <td>161.0</td>\n",
       "      <td>4</td>\n",
       "      <td></td>\n",
       "      <td>113.0</td>\n",
       "      <td>127.0</td>\n",
       "      <td>72.00</td>\n",
       "      <td>53.50</td>\n",
       "      <td>6:00</td>\n",
       "      <td>2</td>\n",
       "      <td>6:00</td>\n",
       "      <td>1</td>\n",
       "      <td>M2123</td>\n",
       "      <td>5</td>\n",
       "      <td>3</td>\n",
       "      <td>1</td>\n",
       "      <td>7622.066564</td>\n",
       "      <td>215</td>\n",
       "    </tr>\n",
       "  </tbody>\n",
       "</table>\n",
       "</div>"
      ],
      "text/plain": [
       "    folio  intp  entidad          desc_ent  sexo  edad  meses   peso  ropa  \\\n",
       "0  210295     2       21            PUEBLA     2    38      8  73.70     2   \n",
       "1  101655     3       10           DURANGO     2    11     11  35.65     2   \n",
       "2   10287     6        1    AGUASCALIENTES     2    18      8  54.80     1   \n",
       "3   91526     4        9  DISTRITO FEDERAL     1    10      8  33.40     2   \n",
       "4  210939     3       21            PUEBLA     2    19      3  97.95     2   \n",
       "\n",
       "   talla emb temb  cintura  cadera  sistol  diastol hpresion tbrazo htension  \\\n",
       "0  146.4   4          98.7   106.0   63.25    53.25    16:30      2    16:35   \n",
       "1  145.1              64.0    75.0   70.00    50.00    15:25      3    15:25   \n",
       "2  162.0   4          67.6    94.3   70.50    41.00     9:40      1     9:40   \n",
       "3  146.5              60.6    72.2   71.00    64.00     7:40      3     7:45   \n",
       "4  161.0   4         113.0   127.0   72.00    53.50     6:00      2     6:00   \n",
       "\n",
       "   PrimaryLast code_upm  est_dis  est_urb  est_marg       pondef  est_var  \n",
       "0            1    R2101        5        3         1  3470.002176      215  \n",
       "1            1    M1041        1        1         1   417.946672      101  \n",
       "2            1    M0108        5        3         1   472.980811       15  \n",
       "3            1    M0931        4        3         2  1832.581391       94  \n",
       "4            1    M2123        5        3         1  7622.066564      215  "
      ]
     },
     "execution_count": 254,
     "metadata": {},
     "output_type": "execute_result"
    }
   ],
   "source": [
    "medidas.head()"
   ]
  },
  {
   "cell_type": "code",
   "execution_count": 255,
   "id": "e3071411",
   "metadata": {},
   "outputs": [],
   "source": [
    "hombres = medidascompletas2.loc[medidascompletas2['sexo']==1] \n",
    "mujeres = medidascompletas2.loc[medidascompletas2['sexo']==2]\n",
    "#guardar los datos de las variables de interés\n",
    "peso_mujeres = mujeres['peso']\n",
    "talla_mujeres = mujeres['talla']\n",
    "cintura_mujeres = mujeres['cintura']\n",
    "#guardar los datos de las variables de interés\n",
    "peso_hombres = hombres['peso']\n",
    "talla_hombres = hombres['talla']\n",
    "cintura_hombres = hombres['cintura']"
   ]
  },
  {
   "cell_type": "code",
   "execution_count": 256,
   "id": "b99426dc",
   "metadata": {},
   "outputs": [
    {
     "data": {
      "image/png": "[encoded data removed]",
      "text/plain": [
       "<Figure size 360x360 with 1 Axes>"
      ]
     },
     "metadata": {
      "needs_background": "light"
     },
     "output_type": "display_data"
    }
   ],
   "source": [
    "plt.figure(figsize=(5,5))\n",
    "plt.scatter(x = peso_hombres, y = cintura_hombres)\n",
    "plt.xlabel(\"'peso de hombre'\")\n",
    "plt.ylabel(\"'cintura de hombre'\")\n",
    "plt.title(\"Diagrama de dispersión de peso vs cintura de hombres\")\n",
    "\n",
    "plt.show()"
   ]
  },
  {
   "cell_type": "code",
   "execution_count": 257,
   "id": "1509085f",
   "metadata": {},
   "outputs": [
    {
     "data": {
      "image/png": "[encoded data removed]",
      "text/plain": [
       "<Figure size 360x360 with 1 Axes>"
      ]
     },
     "metadata": {
      "needs_background": "light"
     },
     "output_type": "display_data"
    }
   ],
   "source": [
    "plt.figure(figsize=(5,5))\n",
    "plt.scatter(x = talla_hombres, y = cintura_hombres)\n",
    "plt.xlabel(\"'talla de hombre'\")\n",
    "plt.ylabel(\"'cintura de hombre'\")\n",
    "plt.title(\"Diagrama de dispersión de talla vs cintura de hombre\")\n",
    "\n",
    "plt.show()"
   ]
  },
  {
   "cell_type": "code",
   "execution_count": 281,
   "id": "80ba0332",
   "metadata": {},
   "outputs": [
    {
     "name": "stdout",
     "output_type": "stream",
     "text": [
      "                            OLS Regression Results                            \n",
      "==============================================================================\n",
      "Dep. Variable:                cintura   R-squared:                       0.792\n",
      "Model:                            OLS   Adj. R-squared:                  0.792\n",
      "Method:                 Least Squares   F-statistic:                 3.094e+04\n",
      "Date:                Fri, 03 Sep 2021   Prob (F-statistic):               0.00\n",
      "Time:                        23:09:37   Log-Likelihood:                -27681.\n",
      "No. Observations:                8141   AIC:                         5.537e+04\n",
      "Df Residuals:                    8139   BIC:                         5.538e+04\n",
      "Df Model:                           1                                         \n",
      "Covariance Type:            nonrobust                                         \n",
      "==============================================================================\n",
      "                 coef    std err          t      P>|t|      [0.025      0.975]\n",
      "------------------------------------------------------------------------------\n",
      "const         37.2461      0.296    125.984      0.000      36.667      37.826\n",
      "peso           0.7455      0.004    175.890      0.000       0.737       0.754\n",
      "==============================================================================\n",
      "Omnibus:                     2072.381   Durbin-Watson:                   1.831\n",
      "Prob(Omnibus):                  0.000   Jarque-Bera (JB):            98831.109\n",
      "Skew:                           0.409   Prob(JB):                         0.00\n",
      "Kurtosis:                      20.050   Cond. No.                         257.\n",
      "==============================================================================\n",
      "\n",
      "Notes:\n",
      "[1] Standard Errors assume that the covariance matrix of the errors is correctly specified.\n"
     ]
    }
   ],
   "source": [
    "#Regresión lineal - Alternativa 1 para peso\n",
    "peso_hombres = hombres['peso']\n",
    "cintura_hombres = hombres['cintura']\n",
    "\n",
    "x = peso_hombres\n",
    "y = cintura_hombres\n",
    "\n",
    "#Agrega una constante = 1 que es el multiplicador del intercepto (True - al inicio)\n",
    "constant = sm.tools.tools.add_constant(x,prepend=True,has_constant='skip')\n",
    "\n",
    "results_hombres = sm.OLS(y,constant).fit()\n",
    "\n",
    "print(results_hombres.summary())\n",
    "\n",
    "# Palomita en R-Squared = 1\n",
    "# 2 palomita p rango = [38.98 = cercano a 0.97]\n",
    "# 3 palomita Kurtosis = 3 y Skew = 0"
   ]
  },
  {
   "cell_type": "code",
   "execution_count": 299,
   "id": "b48eaf7c",
   "metadata": {},
   "outputs": [
    {
     "data": {
      "text/plain": [
       "array([ 62.1458589 ,  61.02760518,  73.04883261, ...,  79.77699246,\n",
       "       125.8490455 ,  72.09831696])"
      ]
     },
     "execution_count": 299,
     "metadata": {},
     "output_type": "execute_result"
    }
   ],
   "source": [
    "results2.predict()"
   ]
  },
  {
   "cell_type": "code",
   "execution_count": 309,
   "id": "090d8213",
   "metadata": {},
   "outputs": [
    {
     "name": "stdout",
     "output_type": "stream",
     "text": [
      "3        28.745800\n",
      "5        29.127550\n",
      "9        25.023738\n",
      "17       29.229350\n",
      "21       22.014275\n",
      "           ...    \n",
      "18626    17.560525\n",
      "18627    19.787400\n",
      "18630    22.726875\n",
      "18634     6.998775\n",
      "18637    25.348225\n",
      "Name: peso, Length: 8141, dtype: float64\n"
     ]
    }
   ],
   "source": [
    "cintura_ecuacion = (0.7455 * peso_hombres) + 37.2461\n",
    "peso2 = cintura_ecuacion - peso_hombres\n",
    "print(peso2)"
   ]
  },
  {
   "cell_type": "code",
   "execution_count": 301,
   "id": "ccf412aa",
   "metadata": {},
   "outputs": [
    {
     "name": "stdout",
     "output_type": "stream",
     "text": [
      "3       -28.745859\n",
      "5       -29.127605\n",
      "9       -25.023833\n",
      "17      -29.229404\n",
      "21      -22.014399\n",
      "           ...    \n",
      "18626   -17.560693\n",
      "18627   -19.787546\n",
      "18630   -22.726992\n",
      "18634    -6.999045\n",
      "18637   -25.348317\n",
      "Name: peso, Length: 8141, dtype: float64\n"
     ]
    }
   ],
   "source": [
    "predict2 = results_hombres.predict()\n",
    "\n",
    "residuals2 = peso_hombres - predict2\n",
    "\n",
    "print(residuals2)"
   ]
  },
  {
   "cell_type": "code",
   "execution_count": 302,
   "id": "f77396ed",
   "metadata": {},
   "outputs": [
    {
     "data": {
      "image/png": "[encoded data removed]",
      "text/plain": [
       "<Figure size 432x288 with 1 Axes>"
      ]
     },
     "metadata": {
      "needs_background": "light"
     },
     "output_type": "display_data"
    }
   ],
   "source": [
    "import matplotlib.pyplot as plt\n",
    "\n",
    "plt.scatter(peso_hombres,residuals2)\n",
    "\n",
    "plt.show()"
   ]
  },
  {
   "cell_type": "code",
   "execution_count": 303,
   "id": "00791d4b",
   "metadata": {},
   "outputs": [
    {
     "data": {
      "image/png": "[encoded data removed]",
      "text/plain": [
       "<Figure size 432x288 with 1 Axes>"
      ]
     },
     "metadata": {
      "needs_background": "light"
     },
     "output_type": "display_data"
    }
   ],
   "source": [
    "sm.graphics.plot_fit(results2,1, vlines=False);"
   ]
  },
  {
   "cell_type": "code",
   "execution_count": null,
   "id": "bb5d9fb2",
   "metadata": {},
   "outputs": [],
   "source": []
  },
  {
   "cell_type": "code",
   "execution_count": 304,
   "id": "7d5db877",
   "metadata": {},
   "outputs": [
    {
     "data": {
      "image/png": "[encoded data removed]",
      "text/plain": [
       "<Figure size 360x360 with 1 Axes>"
      ]
     },
     "metadata": {
      "needs_background": "light"
     },
     "output_type": "display_data"
    }
   ],
   "source": [
    "plt.figure(figsize=(5,5))\n",
    "plt.scatter(x = peso_mujeres, y = cintura_mujeres)\n",
    "plt.xlabel(\"'peso de mujer'\")\n",
    "plt.ylabel(\"'cintura de mujer'\")\n",
    "plt.title(\"Diagrama de dispersión de peso vs cintura de mujeres\")\n",
    "\n",
    "plt.show()"
   ]
  },
  {
   "cell_type": "code",
   "execution_count": 305,
   "id": "69927873",
   "metadata": {},
   "outputs": [
    {
     "data": {
      "image/png": "[encoded data removed]",
      "text/plain": [
       "<Figure size 360x360 with 1 Axes>"
      ]
     },
     "metadata": {
      "needs_background": "light"
     },
     "output_type": "display_data"
    }
   ],
   "source": [
    "plt.figure(figsize=(5,5))\n",
    "plt.scatter(x = talla_mujeres, y = cintura_mujeres)\n",
    "plt.xlabel(\"'talla de mujer'\")\n",
    "plt.ylabel(\"'cintura de mujer'\")\n",
    "plt.title(\"Diagrama de dispersión de talla vs cintura de mujer\")\n",
    "\n",
    "plt.show()"
   ]
  },
  {
   "cell_type": "code",
   "execution_count": 306,
   "id": "a8a13269",
   "metadata": {},
   "outputs": [
    {
     "name": "stdout",
     "output_type": "stream",
     "text": [
      "                            OLS Regression Results                            \n",
      "==============================================================================\n",
      "Dep. Variable:                   peso   R-squared:                       0.740\n",
      "Model:                            OLS   Adj. R-squared:                  0.740\n",
      "Method:                 Least Squares   F-statistic:                 2.806e+04\n",
      "Date:                Fri, 03 Sep 2021   Prob (F-statistic):               0.00\n",
      "Time:                        23:40:19   Log-Likelihood:                -34908.\n",
      "No. Observations:                9844   AIC:                         6.982e+04\n",
      "Df Residuals:                    9842   BIC:                         6.983e+04\n",
      "Df Model:                           1                                         \n",
      "Covariance Type:            nonrobust                                         \n",
      "==============================================================================\n",
      "                 coef    std err          t      P>|t|      [0.025      0.975]\n",
      "------------------------------------------------------------------------------\n",
      "const        -18.9738      0.495    -38.361      0.000     -19.943     -18.004\n",
      "cintura        0.9324      0.006    167.497      0.000       0.921       0.943\n",
      "==============================================================================\n",
      "Omnibus:                     1947.687   Durbin-Watson:                   1.880\n",
      "Prob(Omnibus):                  0.000   Jarque-Bera (JB):            23768.372\n",
      "Skew:                           0.594   Prob(JB):                         0.00\n",
      "Kurtosis:                      10.519   Cond. No.                         520.\n",
      "==============================================================================\n",
      "\n",
      "Notes:\n",
      "[1] Standard Errors assume that the covariance matrix of the errors is correctly specified.\n"
     ]
    }
   ],
   "source": [
    "#Regresión lineal - Alternativa 1 para peso\n",
    "peso_mujeres = mujeres['peso']\n",
    "cintura_mujeres = mujeres['cintura']\n",
    "\n",
    "y = peso_mujeres\n",
    "x = cintura_mujeres\n",
    "\n",
    "#Agrega una constante = 1 que es el multiplicador del intercepto (True - al inicio)\n",
    "constant1 = sm.tools.tools.add_constant(x,prepend=True,has_constant='skip')\n",
    "\n",
    "results1 = sm.OLS(y,constant1).fit()\n",
    "\n",
    "print(results1.summary())\n",
    "\n",
    "# Palomita en R-Squared = 1\n",
    "# 2 palomita p rango = [38.98 = cercano a 0.97]\n",
    "# 3 palomita Kurtosis = 3 y Skew = 0"
   ]
  },
  {
   "cell_type": "code",
   "execution_count": 307,
   "id": "7b342940",
   "metadata": {},
   "outputs": [
    {
     "data": {
      "text/plain": [
       "array([73.05360616, 40.69950564, 44.05612701, ..., 77.10952366,\n",
       "       74.21909969, 81.86473728])"
      ]
     },
     "execution_count": 307,
     "metadata": {},
     "output_type": "execute_result"
    }
   ],
   "source": [
    "results1.predict()"
   ]
  },
  {
   "cell_type": "code",
   "execution_count": 318,
   "id": "a58046b8",
   "metadata": {},
   "outputs": [
    {
     "name": "stdout",
     "output_type": "stream",
     "text": [
      "0       -23.95592\n",
      "1       -21.38374\n",
      "2       -22.67828\n",
      "4       -25.59522\n",
      "6       -21.13362\n",
      "           ...   \n",
      "18633   -24.07084\n",
      "18635   -24.09788\n",
      "18636   -23.66524\n",
      "18638   -22.96558\n",
      "18639   -24.38180\n",
      "Name: peso, Length: 9844, dtype: float64\n"
     ]
    }
   ],
   "source": [
    "cintura_ecuacion1 = (0.9324 * peso_mujeres) - 18.9738\n",
    "Peso1 = cintura_ecuacion1 - peso_mujeres\n",
    "print(Peso1)"
   ]
  },
  {
   "cell_type": "code",
   "execution_count": 319,
   "id": "c75a5b28",
   "metadata": {},
   "outputs": [
    {
     "name": "stdout",
     "output_type": "stream",
     "text": [
      "0         0.646394\n",
      "1        -5.049506\n",
      "2        10.743873\n",
      "4        11.563148\n",
      "6        -2.502460\n",
      "           ...    \n",
      "18633     6.635410\n",
      "18635     8.061044\n",
      "18636    -7.709524\n",
      "18638   -15.169100\n",
      "18639    -1.864737\n",
      "Name: peso, Length: 9844, dtype: float64\n"
     ]
    }
   ],
   "source": [
    "predict1 = results1.predict()\n",
    "\n",
    "residuals1 = peso_mujeres - predict1\n",
    "\n",
    "print(residuals1)"
   ]
  },
  {
   "cell_type": "code",
   "execution_count": 320,
   "id": "7c7b5844",
   "metadata": {},
   "outputs": [
    {
     "data": {
      "image/png": "[encoded data removed]",
      "text/plain": [
       "<Figure size 432x288 with 1 Axes>"
      ]
     },
     "metadata": {
      "needs_background": "light"
     },
     "output_type": "display_data"
    }
   ],
   "source": [
    "import matplotlib.pyplot as plt\n",
    "\n",
    "plt.scatter(peso_mujeres,residuals1)\n",
    "\n",
    "plt.show()"
   ]
  },
  {
   "cell_type": "code",
   "execution_count": 321,
   "id": "d4e896b0",
   "metadata": {},
   "outputs": [
    {
     "data": {
      "image/png": "[encoded data removed]",
      "text/plain": [
       "<Figure size 432x288 with 1 Axes>"
      ]
     },
     "metadata": {
      "needs_background": "light"
     },
     "output_type": "display_data"
    }
   ],
   "source": [
    "sm.graphics.plot_fit(results1,1, vlines=False);"
   ]
  },
  {
   "cell_type": "code",
   "execution_count": 322,
   "id": "b09792e6",
   "metadata": {},
   "outputs": [
    {
     "name": "stdout",
     "output_type": "stream",
     "text": [
      "0         4.453439\n",
      "1        -1.493440\n",
      "2       -12.364459\n",
      "3        -3.193190\n",
      "4         0.428520\n",
      "           ...    \n",
      "18635    -2.833461\n",
      "18636    12.052806\n",
      "18637    -2.531341\n",
      "18638    16.773957\n",
      "18639     9.142738\n",
      "Name: cintura, Length: 17985, dtype: float64\n"
     ]
    }
   ],
   "source": [
    "predict = result.predict()\n",
    "\n",
    "residuals = medidascompletas2['cintura'] - predict\n",
    "\n",
    "print(residuals)"
   ]
  },
  {
   "cell_type": "code",
   "execution_count": 323,
   "id": "0f60ee25",
   "metadata": {},
   "outputs": [
    {
     "data": {
      "image/png": "[encoded data removed]",
      "text/plain": [
       "<Figure size 432x288 with 1 Axes>"
      ]
     },
     "metadata": {
      "needs_background": "light"
     },
     "output_type": "display_data"
    }
   ],
   "source": [
    "import matplotlib.pyplot as plt\n",
    "\n",
    "plt.scatter(medidascompletas2['peso'],residuals)\n",
    "\n",
    "plt.show()"
   ]
  },
  {
   "cell_type": "code",
   "execution_count": 324,
   "id": "8d26f4f5",
   "metadata": {},
   "outputs": [
    {
     "data": {
      "image/png": "[encoded data removed]",
      "text/plain": [
       "<Figure size 432x288 with 1 Axes>"
      ]
     },
     "metadata": {
      "needs_background": "light"
     },
     "output_type": "display_data"
    }
   ],
   "source": [
    "sm.graphics.plot_fit(results,1, vlines=False);"
   ]
  }
 ],
 "metadata": {
  "celltoolbar": "Slideshow",
  "kernelspec": {
   "display_name": "Python 3",
   "language": "python",
   "name": "python3"
  },
  "language_info": {
   "codemirror_mode": {
    "name": "ipython",
    "version": 3
   },
   "file_extension": ".py",
   "mimetype": "text/x-python",
   "name": "python",
   "nbconvert_exporter": "python",
   "pygments_lexer": "ipython3",
   "version": "3.8.8"
  }
 },
 "nbformat": 4,
 "nbformat_minor": 5
}
